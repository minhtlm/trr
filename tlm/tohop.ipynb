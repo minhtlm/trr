{
 "cells": [
  {
   "cell_type": "code",
   "execution_count": 1,
   "metadata": {},
   "outputs": [
    {
     "data": {
      "text/plain": [
       "[(1, 2, 3),\n",
       " (1, 2, 4),\n",
       " (1, 2, 5),\n",
       " (1, 3, 4),\n",
       " (1, 3, 5),\n",
       " (1, 4, 5),\n",
       " (2, 3, 4),\n",
       " (2, 3, 5),\n",
       " (2, 4, 5),\n",
       " (3, 4, 5)]"
      ]
     },
     "execution_count": 1,
     "metadata": {},
     "output_type": "execute_result"
    }
   ],
   "source": [
    "from sympy import *\n",
    "binomial (5 , 3)\n",
    "import itertools\n",
    "list ( itertools . combinations ([1 , 2 , 3 , 4 , 5] , 3) )"
   ]
  },
  {
   "cell_type": "code",
   "execution_count": 1,
   "metadata": {},
   "outputs": [],
   "source": [
    "def combinations(a, r):\n",
    "    if r == 1:\n",
    "        return [[i] for i in a]\n",
    "    A = []\n",
    "    n = len(a)\n",
    "    for i in range(n-r+1):\n",
    "        for c in combinations(a[i + 1:], r - 1):\n",
    "            c = [a[i]] + c\n",
    "            A.append(c)\n",
    "    return A"
   ]
  },
  {
   "cell_type": "code",
   "execution_count": 4,
   "metadata": {},
   "outputs": [
    {
     "ename": "TypeError",
     "evalue": "object of type 'int' has no len()",
     "output_type": "error",
     "traceback": [
      "\u001b[1;31m---------------------------------------------------------------------------\u001b[0m",
      "\u001b[1;31mTypeError\u001b[0m                                 Traceback (most recent call last)",
      "Cell \u001b[1;32mIn[4], line 1\u001b[0m\n\u001b[1;32m----> 1\u001b[0m combinations([\u001b[39m1\u001b[39;49m, \u001b[39m2\u001b[39;49m, \u001b[39m3\u001b[39;49m, \u001b[39m4\u001b[39;49m, \u001b[39m5\u001b[39;49m],\u001b[39m3\u001b[39;49m)\n",
      "Cell \u001b[1;32mIn[1], line 7\u001b[0m, in \u001b[0;36mcombinations\u001b[1;34m(a, r)\u001b[0m\n\u001b[0;32m      5\u001b[0m n \u001b[39m=\u001b[39m \u001b[39mlen\u001b[39m(a)\n\u001b[0;32m      6\u001b[0m \u001b[39mfor\u001b[39;00m i \u001b[39min\u001b[39;00m \u001b[39mrange\u001b[39m(n\u001b[39m-\u001b[39mr\u001b[39m+\u001b[39m\u001b[39m1\u001b[39m):\n\u001b[1;32m----> 7\u001b[0m     \u001b[39mfor\u001b[39;00m c \u001b[39min\u001b[39;00m combinations(a[i \u001b[39m+\u001b[39;49m \u001b[39m1\u001b[39;49m], r \u001b[39m-\u001b[39;49m \u001b[39m1\u001b[39;49m):\n\u001b[0;32m      8\u001b[0m         c \u001b[39m=\u001b[39m [a[i]] \u001b[39m+\u001b[39m c\n\u001b[0;32m      9\u001b[0m         A\u001b[39m.\u001b[39mappend(c)\n",
      "Cell \u001b[1;32mIn[1], line 5\u001b[0m, in \u001b[0;36mcombinations\u001b[1;34m(a, r)\u001b[0m\n\u001b[0;32m      3\u001b[0m     \u001b[39mreturn\u001b[39;00m [[i] \u001b[39mfor\u001b[39;00m i \u001b[39min\u001b[39;00m a]\n\u001b[0;32m      4\u001b[0m A \u001b[39m=\u001b[39m []\n\u001b[1;32m----> 5\u001b[0m n \u001b[39m=\u001b[39m \u001b[39mlen\u001b[39;49m(a)\n\u001b[0;32m      6\u001b[0m \u001b[39mfor\u001b[39;00m i \u001b[39min\u001b[39;00m \u001b[39mrange\u001b[39m(n\u001b[39m-\u001b[39mr\u001b[39m+\u001b[39m\u001b[39m1\u001b[39m):\n\u001b[0;32m      7\u001b[0m     \u001b[39mfor\u001b[39;00m c \u001b[39min\u001b[39;00m combinations(a[i \u001b[39m+\u001b[39m \u001b[39m1\u001b[39m], r \u001b[39m-\u001b[39m \u001b[39m1\u001b[39m):\n",
      "\u001b[1;31mTypeError\u001b[0m: object of type 'int' has no len()"
     ]
    }
   ],
   "source": [
    "combinations([1, 2, 3, 4, 5],3)"
   ]
  }
 ],
 "metadata": {
  "kernelspec": {
   "display_name": "Python 3",
   "language": "python",
   "name": "python3"
  },
  "language_info": {
   "codemirror_mode": {
    "name": "ipython",
    "version": 3
   },
   "file_extension": ".py",
   "mimetype": "text/x-python",
   "name": "python",
   "nbconvert_exporter": "python",
   "pygments_lexer": "ipython3",
   "version": "3.10.11"
  },
  "orig_nbformat": 4
 },
 "nbformat": 4,
 "nbformat_minor": 2
}
