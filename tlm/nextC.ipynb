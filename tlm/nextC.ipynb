{
 "cells": [
  {
   "cell_type": "code",
   "execution_count": null,
   "metadata": {},
   "outputs": [],
   "source": [
    "def next_c(a, n):\n",
    "    r = len(a)\n",
    "    i = r - 1\n",
    "    while a[i] == n - r + i + 1:\n",
    "        i -= 1\n",
    "    a[i] = a[i] + 1\n",
    "    j = i + 1\n",
    "    while j < r:\n",
    "        a[j] = a[j - 1] + 1\n",
    "        j += 1\n",
    "    return a"
   ]
  }
 ],
 "metadata": {
  "kernelspec": {
   "display_name": "Python 3",
   "language": "python",
   "name": "python3"
  },
  "language_info": {
   "name": "python",
   "version": "3.10.11"
  },
  "orig_nbformat": 4
 },
 "nbformat": 4,
 "nbformat_minor": 2
}
